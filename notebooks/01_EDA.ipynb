import pandas as pd
df = pd.read_csv('../data/raw/claims.csv')

# Loss ratio by region
loss_ratio = df.groupby('province')['claim_amount'].sum() / df.groupby('province')['premium'].sum()
loss_ratio.sort_values().plot(kind='barh')  # Save as 'loss_ratio_by_province.png'